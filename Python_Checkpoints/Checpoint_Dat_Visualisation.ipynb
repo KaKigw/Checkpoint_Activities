{
    "cells": [
        {
            "cell_type": "code",
            "execution_count": 4,
            "id": "84b4f313",
            "metadata": {},
            "outputs": [],
            "source": [
                "import pandas as pd \n",
                "import numpy as np\n",
                "import plotly.express as px\n",
                "import matplotlib.pyplot as plt\n",
                "from sklearn.impute import KNNImputer\n",
                "from sklearn.preprocessing import StandardScaler"
            ]
        },
        {
            "cell_type": "code",
            "execution_count": 2,
            "id": "31f6bbe5",
            "metadata": {},
            "outputs": [],
            "source": [
                "data = pd.read_csv(\"..\\Python_Checkpoints\\Africa_climate_change.csv\")"
            ]
        },
        {
            "cell_type": "code",
            "execution_count": 3,
            "id": "e0bb4862",
            "metadata": {},
            "outputs": [
                {
                    "data": {
                        "text/html": [
                            "<div>\n",
                            "<style scoped>\n",
                            "    .dataframe tbody tr th:only-of-type {\n",
                            "        vertical-align: middle;\n",
                            "    }\n",
                            "\n",
                            "    .dataframe tbody tr th {\n",
                            "        vertical-align: top;\n",
                            "    }\n",
                            "\n",
                            "    .dataframe thead th {\n",
                            "        text-align: right;\n",
                            "    }\n",
                            "</style>\n",
                            "<table border=\"1\" class=\"dataframe\">\n",
                            "  <thead>\n",
                            "    <tr style=\"text-align: right;\">\n",
                            "      <th></th>\n",
                            "      <th>DATE</th>\n",
                            "      <th>PRCP</th>\n",
                            "      <th>TAVG</th>\n",
                            "      <th>TMAX</th>\n",
                            "      <th>TMIN</th>\n",
                            "      <th>COUNTRY</th>\n",
                            "    </tr>\n",
                            "  </thead>\n",
                            "  <tbody>\n",
                            "    <tr>\n",
                            "      <th>0</th>\n",
                            "      <td>19800101 000000</td>\n",
                            "      <td>NaN</td>\n",
                            "      <td>54.0</td>\n",
                            "      <td>61.0</td>\n",
                            "      <td>43.0</td>\n",
                            "      <td>Tunisia</td>\n",
                            "    </tr>\n",
                            "    <tr>\n",
                            "      <th>1</th>\n",
                            "      <td>19800101 000000</td>\n",
                            "      <td>NaN</td>\n",
                            "      <td>49.0</td>\n",
                            "      <td>55.0</td>\n",
                            "      <td>41.0</td>\n",
                            "      <td>Tunisia</td>\n",
                            "    </tr>\n",
                            "    <tr>\n",
                            "      <th>2</th>\n",
                            "      <td>19800101 000000</td>\n",
                            "      <td>0.0</td>\n",
                            "      <td>72.0</td>\n",
                            "      <td>86.0</td>\n",
                            "      <td>59.0</td>\n",
                            "      <td>Cameroon</td>\n",
                            "    </tr>\n",
                            "    <tr>\n",
                            "      <th>3</th>\n",
                            "      <td>19800101 000000</td>\n",
                            "      <td>NaN</td>\n",
                            "      <td>50.0</td>\n",
                            "      <td>55.0</td>\n",
                            "      <td>43.0</td>\n",
                            "      <td>Tunisia</td>\n",
                            "    </tr>\n",
                            "    <tr>\n",
                            "      <th>4</th>\n",
                            "      <td>19800101 000000</td>\n",
                            "      <td>NaN</td>\n",
                            "      <td>75.0</td>\n",
                            "      <td>91.0</td>\n",
                            "      <td>NaN</td>\n",
                            "      <td>Cameroon</td>\n",
                            "    </tr>\n",
                            "  </tbody>\n",
                            "</table>\n",
                            "</div>"
                        ],
                        "text/plain": [
                            "              DATE  PRCP  TAVG  TMAX  TMIN   COUNTRY\n",
                            "0  19800101 000000   NaN  54.0  61.0  43.0   Tunisia\n",
                            "1  19800101 000000   NaN  49.0  55.0  41.0   Tunisia\n",
                            "2  19800101 000000   0.0  72.0  86.0  59.0  Cameroon\n",
                            "3  19800101 000000   NaN  50.0  55.0  43.0   Tunisia\n",
                            "4  19800101 000000   NaN  75.0  91.0   NaN  Cameroon"
                        ]
                    },
                    "execution_count": 3,
                    "metadata": {},
                    "output_type": "execute_result"
                }
            ],
            "source": [
                "data.head()"
            ]
        },
        {
            "cell_type": "code",
            "execution_count": 4,
            "id": "b46143e9",
            "metadata": {},
            "outputs": [
                {
                    "data": {
                        "text/plain": [
                            "(464815, 6)"
                        ]
                    },
                    "execution_count": 4,
                    "metadata": {},
                    "output_type": "execute_result"
                }
            ],
            "source": [
                "data.shape\n"
            ]
        },
        {
            "cell_type": "code",
            "execution_count": 5,
            "id": "d0880217",
            "metadata": {},
            "outputs": [
                {
                    "name": "stdout",
                    "output_type": "stream",
                    "text": [
                        "<class 'pandas.core.frame.DataFrame'>\n",
                        "RangeIndex: 464815 entries, 0 to 464814\n",
                        "Data columns (total 6 columns):\n",
                        " #   Column   Non-Null Count   Dtype  \n",
                        "---  ------   --------------   -----  \n",
                        " 0   DATE     464815 non-null  object \n",
                        " 1   PRCP     177575 non-null  float64\n",
                        " 2   TAVG     458439 non-null  float64\n",
                        " 3   TMAX     363901 non-null  float64\n",
                        " 4   TMIN     332757 non-null  float64\n",
                        " 5   COUNTRY  464815 non-null  object \n",
                        "dtypes: float64(4), object(2)\n",
                        "memory usage: 21.3+ MB\n"
                    ]
                }
            ],
            "source": [
                "data.info()"
            ]
        },
        {
            "cell_type": "code",
            "execution_count": 6,
            "id": "a99a85a4",
            "metadata": {},
            "outputs": [
                {
                    "data": {
                        "text/plain": [
                            "Index(['date', 'prcp', 'tavg', 'tmax', 'tmin', 'country'], dtype='object')"
                        ]
                    },
                    "execution_count": 6,
                    "metadata": {},
                    "output_type": "execute_result"
                }
            ],
            "source": [
                "data.columns = data.columns.str.strip().str.lower()\n",
                "data.columns"
            ]
        },
        {
            "cell_type": "code",
            "execution_count": 7,
            "id": "1d6e18f3",
            "metadata": {},
            "outputs": [
                {
                    "data": {
                        "text/plain": [
                            "date            0\n",
                            "prcp       287240\n",
                            "tavg         6376\n",
                            "tmax       100914\n",
                            "tmin       132058\n",
                            "country         0\n",
                            "dtype: int64"
                        ]
                    },
                    "execution_count": 7,
                    "metadata": {},
                    "output_type": "execute_result"
                }
            ],
            "source": [
                "data.isnull().sum()"
            ]
        },
        {
            "cell_type": "code",
            "execution_count": 8,
            "metadata": {},
            "outputs": [],
            "source": [
                "data['date'] = data['date'].astype(str).str.slice(0, 8)\n",
                "\n",
                "# Convert to datetime\n",
                "data['date'] = pd.to_datetime(data['date'], format='%Y%m%d')\n",
                "data['year'] = data['date'].dt.year\n",
                "data['month'] = data['date'].dt.month\n",
                "\n"
            ]
        },
        {
            "cell_type": "code",
            "execution_count": 9,
            "id": "5046d21a",
            "metadata": {},
            "outputs": [
                {
                    "data": {
                        "text/html": [
                            "<div>\n",
                            "<style scoped>\n",
                            "    .dataframe tbody tr th:only-of-type {\n",
                            "        vertical-align: middle;\n",
                            "    }\n",
                            "\n",
                            "    .dataframe tbody tr th {\n",
                            "        vertical-align: top;\n",
                            "    }\n",
                            "\n",
                            "    .dataframe thead th {\n",
                            "        text-align: right;\n",
                            "    }\n",
                            "</style>\n",
                            "<table border=\"1\" class=\"dataframe\">\n",
                            "  <thead>\n",
                            "    <tr style=\"text-align: right;\">\n",
                            "      <th></th>\n",
                            "      <th>date</th>\n",
                            "      <th>prcp</th>\n",
                            "      <th>tavg</th>\n",
                            "      <th>tmax</th>\n",
                            "      <th>tmin</th>\n",
                            "      <th>country</th>\n",
                            "      <th>year</th>\n",
                            "      <th>month</th>\n",
                            "    </tr>\n",
                            "  </thead>\n",
                            "  <tbody>\n",
                            "    <tr>\n",
                            "      <th>0</th>\n",
                            "      <td>1980-01-01</td>\n",
                            "      <td>NaN</td>\n",
                            "      <td>54.0</td>\n",
                            "      <td>61.0</td>\n",
                            "      <td>43.0</td>\n",
                            "      <td>Tunisia</td>\n",
                            "      <td>1980</td>\n",
                            "      <td>1</td>\n",
                            "    </tr>\n",
                            "    <tr>\n",
                            "      <th>1</th>\n",
                            "      <td>1980-01-01</td>\n",
                            "      <td>NaN</td>\n",
                            "      <td>49.0</td>\n",
                            "      <td>55.0</td>\n",
                            "      <td>41.0</td>\n",
                            "      <td>Tunisia</td>\n",
                            "      <td>1980</td>\n",
                            "      <td>1</td>\n",
                            "    </tr>\n",
                            "    <tr>\n",
                            "      <th>2</th>\n",
                            "      <td>1980-01-01</td>\n",
                            "      <td>0.0</td>\n",
                            "      <td>72.0</td>\n",
                            "      <td>86.0</td>\n",
                            "      <td>59.0</td>\n",
                            "      <td>Cameroon</td>\n",
                            "      <td>1980</td>\n",
                            "      <td>1</td>\n",
                            "    </tr>\n",
                            "    <tr>\n",
                            "      <th>3</th>\n",
                            "      <td>1980-01-01</td>\n",
                            "      <td>NaN</td>\n",
                            "      <td>50.0</td>\n",
                            "      <td>55.0</td>\n",
                            "      <td>43.0</td>\n",
                            "      <td>Tunisia</td>\n",
                            "      <td>1980</td>\n",
                            "      <td>1</td>\n",
                            "    </tr>\n",
                            "    <tr>\n",
                            "      <th>4</th>\n",
                            "      <td>1980-01-01</td>\n",
                            "      <td>NaN</td>\n",
                            "      <td>75.0</td>\n",
                            "      <td>91.0</td>\n",
                            "      <td>NaN</td>\n",
                            "      <td>Cameroon</td>\n",
                            "      <td>1980</td>\n",
                            "      <td>1</td>\n",
                            "    </tr>\n",
                            "  </tbody>\n",
                            "</table>\n",
                            "</div>"
                        ],
                        "text/plain": [
                            "        date  prcp  tavg  tmax  tmin   country  year  month\n",
                            "0 1980-01-01   NaN  54.0  61.0  43.0   Tunisia  1980      1\n",
                            "1 1980-01-01   NaN  49.0  55.0  41.0   Tunisia  1980      1\n",
                            "2 1980-01-01   0.0  72.0  86.0  59.0  Cameroon  1980      1\n",
                            "3 1980-01-01   NaN  50.0  55.0  43.0   Tunisia  1980      1\n",
                            "4 1980-01-01   NaN  75.0  91.0   NaN  Cameroon  1980      1"
                        ]
                    },
                    "execution_count": 9,
                    "metadata": {},
                    "output_type": "execute_result"
                }
            ],
            "source": [
                "data.head()"
            ]
        },
        {
            "cell_type": "code",
            "execution_count": 10,
            "id": "0f91271d",
            "metadata": {},
            "outputs": [
                {
                    "name": "stdout",
                    "output_type": "stream",
                    "text": [
                        "<class 'pandas.core.frame.DataFrame'>\n",
                        "RangeIndex: 464815 entries, 0 to 464814\n",
                        "Data columns (total 8 columns):\n",
                        " #   Column   Non-Null Count   Dtype         \n",
                        "---  ------   --------------   -----         \n",
                        " 0   date     464815 non-null  datetime64[ns]\n",
                        " 1   prcp     177575 non-null  float64       \n",
                        " 2   tavg     458439 non-null  float64       \n",
                        " 3   tmax     363901 non-null  float64       \n",
                        " 4   tmin     332757 non-null  float64       \n",
                        " 5   country  464815 non-null  object        \n",
                        " 6   year     464815 non-null  int32         \n",
                        " 7   month    464815 non-null  int32         \n",
                        "dtypes: datetime64[ns](1), float64(4), int32(2), object(1)\n",
                        "memory usage: 24.8+ MB\n"
                    ]
                }
            ],
            "source": [
                "data.info()"
            ]
        },
        {
            "cell_type": "code",
            "execution_count": 11,
            "id": "bf5e6eaa",
            "metadata": {},
            "outputs": [
                {
                    "name": "stdout",
                    "output_type": "stream",
                    "text": [
                        "datetime64[ns]\n"
                    ]
                }
            ],
            "source": [
                "print(data['date'].dtype)"
            ]
        },
        {
            "cell_type": "code",
            "execution_count": 12,
            "id": "eed2b0f8",
            "metadata": {},
            "outputs": [],
            "source": [
                "mask =  data['tavg'].isna() & data['tmin'].notna() & data['tmax'].notna()\n",
                "data.loc[mask, 'tavg'] = (data.loc[mask, 'tmin'] + data.loc[mask, 'tmax']) / 2\n",
                "\n"
            ]
        },
        {
            "cell_type": "code",
            "execution_count": 13,
            "id": "d0fb7bc8",
            "metadata": {},
            "outputs": [
                {
                    "data": {
                        "text/plain": [
                            "24     78.0\n",
                            "26     78.0\n",
                            "64     77.5\n",
                            "85     78.5\n",
                            "105    80.0\n",
                            "Name: tavg, dtype: float64"
                        ]
                    },
                    "execution_count": 13,
                    "metadata": {},
                    "output_type": "execute_result"
                }
            ],
            "source": [
                "data.loc[mask, 'tavg'].head(5)"
            ]
        },
        {
            "cell_type": "code",
            "execution_count": 14,
            "id": "ba4cbc47",
            "metadata": {},
            "outputs": [],
            "source": [
                "imputed_chunks = []\n",
                "scaler = StandardScaler()\n",
                "imputer = KNNImputer(n_neighbors=2)\n",
                "\n",
                "for country in data['country'].unique():\n",
                "    chunk = data[data['country'] == country].copy()\n",
                "    \n",
                "    # Build feature matrix for this chunk\n",
                "    chunk_encoded = pd.get_dummies(chunk['country'], prefix='country')\n",
                "    chunk_ready = pd.concat([chunk[['tavg','tmin','tmax','prcp','year','month']], chunk_encoded], axis=1)\n",
                "    \n",
                "    # Scale + Impute\n",
                "    scaled = scaler.fit_transform(chunk_ready)\n",
                "    imputed = imputer.fit_transform(scaled)\n",
                "    chunk[chunk_ready.columns] = scaler.inverse_transform(imputed)\n",
                "    \n",
                "    imputed_chunks.append(chunk)\n",
                "\n",
                "# Combine all chunks\n",
                "data_imputed = pd.concat(imputed_chunks, axis=0)\n"
            ]
        },
        {
            "cell_type": "code",
            "execution_count": null,
            "id": "0a05b58b",
            "metadata": {},
            "outputs": [],
            "source": [
                "output_file = \"Africa_climate_change_clean.csv\"\n",
                "data_imputed.to_csv(output_file,index= True)\n"
            ]
        },
        {
            "cell_type": "code",
            "execution_count": 19,
            "id": "e9b3e376",
            "metadata": {},
            "outputs": [],
            "source": [
                "data_imputed = pd.read_csv(\"..\\Python_Checkpoints\\Africa_climate_change_clean.csv\")"
            ]
        },
        {
            "cell_type": "code",
            "execution_count": null,
            "id": "ae409834",
            "metadata": {},
            "outputs": [],
            "source": [
                "data_imputed.drop(columns=['country_Tunisia', 'country_Cameroon', 'country_Senegal', 'country_Egypt', 'country_Angola'], inplace=True)\n",
                "data_imputed.isnull().sum()"
            ]
        },
        {
            "cell_type": "code",
            "execution_count": 20,
            "id": "7e659996",
            "metadata": {},
            "outputs": [
                {
                    "data": {
                        "image/png": "[encoded data removed]",
                        "text/plain": [
                            "<Figure size 1000x600 with 1 Axes>"
                        ]
                    },
                    "metadata": {},
                    "output_type": "display_data"
                }
            ],
            "source": [
                "#Line Chart – Temperature Fluctuations in Tunisia & Cameroon\n",
                "\n",
                "data_tc = data_imputed[data_imputed['country'].isin(['Tunisia','Cameroon'])].copy()\n",
                "avg_temp = data_tc.groupby(['year','country'])['tavg'].mean().reset_index()\n",
                "\n",
                "\n",
                "fig, ax = plt.subplots(figsize=(10, 6))\n",
                "for country in ['Tunisia','Cameroon']:\n",
                "    country_data = avg_temp[avg_temp['country'] == country]\n",
                "    country_data.head()\n",
                "    ax.plot(country_data['year'],\n",
                "            country_data['tavg'],\n",
                "            label=country,\n",
                "            marker=0)\n",
                "\n",
                "ax.set_title('Temperature Fluctuations in Tunisia & Cameroon')\n",
                "ax.set_xlabel('Year')\n",
                "ax.set_ylabel('Average Temperature (°C)')\n",
                "ax.legend()\n",
                "plt.tight_layout()\n",
                "plt.show()\n"
            ]
        },
        {
            "cell_type": "markdown",
            "id": "ec18e635",
            "metadata": {},
            "source": [
                "- Tunisia’s climate appears to be warming over time, possibly due to desertification, urbanization, or broader global climate change.\n",
                "\n",
                "- Cameroon’s temperatures are naturally higher, but the long-term trend is less pronounced. It may be experiencing seasonal volatility more than directional change.\n"
            ]
        },
        {
            "cell_type": "code",
            "execution_count": 16,
            "id": "79875c86",
            "metadata": {},
            "outputs": [
                {
                    "data": {
                        "image/png": "[encoded data removed]",
                        "text/plain": [
                            "<Figure size 1000x600 with 1 Axes>"
                        ]
                    },
                    "metadata": {},
                    "output_type": "display_data"
                }
            ],
            "source": [
                "filtered_data = avg_temp[(avg_temp['year'] >= 1980) & (avg_temp['year'] <= 2005)]\n",
                "fig, ax = plt.subplots(figsize=(10, 6))\n",
                "\n",
                "for country in filtered_data['country'].unique():\n",
                "    country_data = filtered_data[filtered_data['country'] == country]\n",
                "    ax.plot(\n",
                "        country_data['year'], \n",
                "        country_data['tavg'], \n",
                "        label=country,\n",
                "        marker='o'\n",
                "    )\n",
                "\n",
                "\n",
                "ax.set_title('Temperature Trends (1980–2005): Tunisia vs. Cameroon', fontsize=14, fontweight='bold')\n",
                "ax.set_xlabel('Year', fontsize=12, labelpad=10)\n",
                "ax.set_ylabel('Avg Temperature (°C)', fontsize=12, labelpad=10)\n",
                "\n",
                "\n",
                "ax.tick_params(axis='x', rotation=45)\n",
                "ax.tick_params(axis='both', labelsize=10)\n",
                "\n",
                "# ax.set_xticks([1980, 1990, 2000])\n",
                "# ax.set_xticklabels(['📅 1980', '📅 1990', '📅 2000'], fontsize=10, rotation=45)\n",
                "\n",
                "ax.legend(title='Country', fontsize=10)\n",
                "\n",
                "plt.tight_layout()\n",
                "plt.show()"
            ]
        },
        {
            "cell_type": "code",
            "execution_count": 27,
            "id": "9e4a939d",
            "metadata": {},
            "outputs": [
                {
                    "data": {
                        "image/png": "[encoded data removed]",
                        "text/plain": [
                            "<Figure size 1000x600 with 1 Axes>"
                        ]
                    },
                    "metadata": {},
                    "output_type": "display_data"
                }
            ],
            "source": [
                "#Create Histograms to show temperature distribution in Senegal between [1980,2000] and [2000,2023] (in the same figure). \n",
                "\n",
                "senegal_early = data_imputed[(data_imputed['country'] == 'Senegal') & (data_imputed['year'] >= 1980) & (data_imputed['year'] <= 2000)]\n",
                "senegal_recent = data_imputed[(data_imputed['country'] == 'Senegal') & (data_imputed['year'] > 2000) & (data_imputed['year'] <= 2023)]\n",
                "\n",
                "temps_early = senegal_early['tavg']\n",
                "temps_recent = senegal_recent['tavg']\n",
                "\n",
                "fig, ax = plt.subplots(figsize=(10, 6))\n",
                "\n",
                "ax.hist(temps_early, bins=20, alpha=0.6, label='1980–2000', color='skyblue', edgecolor='black')\n",
                "ax.hist(temps_recent, bins=20, alpha=0.6, label='2000–2023', color='orange', edgecolor='black')\n",
                "\n",
                "\n",
                "ax.set_title('Temperature Distribution in Senegal (1980–2000 vs. 2000–2023)', fontsize=14, fontweight='bold')\n",
                "ax.set_xlabel('Average Temperature (°C)', fontsize=12, labelpad=10)\n",
                "ax.set_ylabel('Frequency', fontsize=12, labelpad=10)\n",
                "ax.legend(title='Time Period')\n",
                "\n",
                "plt.tight_layout()\n",
                "plt.show()\n"
            ]
        },
        {
            "cell_type": "markdown",
            "id": "6217d2d3",
            "metadata": {},
            "source": [
                "# Temperature Distribution in Senegal (1980–2000 vs. 2000–2023)\n",
                "\n",
                "## Overview\n",
                "\n",
                "This histogram compares the distribution of average temperatures in Senegal across two distinct time periods:\n",
                "\n",
                "- **1980–2000** (blue bars)\n",
                "- **2000–2023** (orange bars)\n",
                "\n",
                "The x-axis represents average temperature in degrees Celsius (°C), while the y-axis shows the frequency of temperature occurrences.\n",
                "\n",
                "## Key Observations\n",
                "\n",
                "- **Shift to the right**: The orange bars are generally positioned further right than the blue ones, indicating that higher temperatures have become more common in the recent period.\n",
                "- **Taller orange bars**: The frequency of warmer temperatures has increased, suggesting a denser concentration of higher temperature values.\n",
                "- **Flattening of blue bars**: The earlier period shows a more spread-out distribution, implying greater variability or cooler extremes.\n",
                "\n",
                "## Interpretation\n",
                "\n",
                "This histogram provides visual evidence of climate warming in Senegal:\n",
                "\n",
                "- The **modal temperature** (most frequent value) has increased.\n",
                "- The **distribution has shifted** toward hotter values.\n",
                "- The **frequency of high temperatures** has intensified.\n",
                "\n",
                "These changes suggest a long-term warming trend, consistent with broader climate change patterns. The histogram effectively highlights how temperature behavior has evolved over time, offering a clear comparison between historical and recent climate conditions.\n"
            ]
        },
        {
            "cell_type": "code",
            "execution_count": null,
            "id": "a1ecf48a",
            "metadata": {},
            "outputs": [
                {
                    "data": {
                        "application/vnd.plotly.v1+json": {
                            "config": {
                                "plotlyServerURL": "https://plot.ly"
                            },
                            "data": [
                                {
                                    "hovertemplate": "Country=%{x}<br>Avg Temperature (°C)=%{marker.color}<extra></extra>",
                                    "legendgroup": "",
                                    "marker": {
                                        "color": {
                                            "bdata": "/6yviSHvUEAYGSkHtXNSQAuJULQN6FJANUAdKjYUVECd6oh/QbxUQA==",
                                            "dtype": "f8"
                                        },
                                        "coloraxis": "coloraxis",
                                        "pattern": {
                                            "shape": ""
                                        }
                                    },
                                    "name": "",
                                    "orientation": "v",
                                    "showlegend": false,
                                    "textposition": "auto",
                                    "type": "bar",
                                    "x": [
                                        "Tunisia",
                                        "Egypt",
                                        "Angola",
                                        "Cameroon",
                                        "Senegal"
                                    ],
                                    "xaxis": "x",
                                    "y": {
                                        "bdata": "/6yviSHvUEAYGSkHtXNSQAuJULQN6FJANUAdKjYUVECd6oh/QbxUQA==",
                                        "dtype": "f8"
                                    },
                                    "yaxis": "y"
                                }
                            ],
                            "layout": {
                                "barmode": "relative",
                                "coloraxis": {
                                    "colorbar": {
                                        "title": {
                                            "text": "Avg Temperature (°C)"
                                        }
                                    },
                                    "colorscale": [
                                        [
                                            0,
                                            "rgb(255,255,204)"
                                        ],
                                        [
                                            0.125,
                                            "rgb(255,237,160)"
                                        ],
                                        [
                                            0.25,
                                            "rgb(254,217,118)"
                                        ],
                                        [
                                            0.375,
                                            "rgb(254,178,76)"
                                        ],
                                        [
                                            0.5,
                                            "rgb(253,141,60)"
                                        ],
                                        [
                                            0.625,
                                            "rgb(252,78,42)"
                                        ],
                                        [
                                            0.75,
                                            "rgb(227,26,28)"
                                        ],
                                        [
                                            0.875,
                                            "rgb(189,0,38)"
                                        ],
                                        [
                                            1,
                                            "rgb(128,0,38)"
                                        ]
                                    ]
                                },
                                "legend": {
                                    "tracegroupgap": 0
                                },
                                "margin": {
                                    "b": 40,
                                    "l": 100,
                                    "r": 40,
                                    "t": 60
                                },
                                "template": {
                                    "data": {
                                        "bar": [
                                            {
                                                "error_x": {
                                                    "color": "#2a3f5f"
                                                },
                                                "error_y": {
                                                    "color": "#2a3f5f"
                                                },
                                                "marker": {
                                                    "line": {
                                                        "color": "#E5ECF6",
                                                        "width": 0.5
                                                    },
                                                    "pattern": {
                                                        "fillmode": "overlay",
                                                        "size": 10,
                                                        "solidity": 0.2
                                                    }
                                                },
                                                "type": "bar"
                                            }
                                        ],
                                        "barpolar": [
                                            {
                                                "marker": {
                                                    "line": {
                                                        "color": "#E5ECF6",
                                                        "width": 0.5
                                                    },
                                                    "pattern": {
                                                        "fillmode": "overlay",
                                                        "size": 10,
                                                        "solidity": 0.2
                                                    }
                                                },
                                                "type": "barpolar"
                                            }
                                        ],
                                        "carpet": [
                                            {
                                                "aaxis": {
                                                    "endlinecolor": "#2a3f5f",
                                                    "gridcolor": "white",
                                                    "linecolor": "white",
                                                    "minorgridcolor": "white",
                                                    "startlinecolor": "#2a3f5f"
                                                },
                                                "baxis": {
                                                    "endlinecolor": "#2a3f5f",
                                                    "gridcolor": "white",
                                                    "linecolor": "white",
                                                    "minorgridcolor": "white",
                                                    "startlinecolor": "#2a3f5f"
                                                },
                                                "type": "carpet"
                                            }
                                        ],
                                        "choropleth": [
                                            {
                                                "colorbar": {
                                                    "outlinewidth": 0,
                                                    "ticks": ""
                                                },
                                                "type": "choropleth"
                                            }
                                        ],
                                        "contour": [
                                            {
                                                "colorbar": {
                                                    "outlinewidth": 0,
                                                    "ticks": ""
                                                },
                                                "colorscale": [
                                                    [
                                                        0,
                                                        "#0d0887"
                                                    ],
                                                    [
                                                        0.1111111111111111,
                                                        "#46039f"
                                                    ],
                                                    [
                                                        0.2222222222222222,
                                                        "#7201a8"
                                                    ],
                                                    [
                                                        0.3333333333333333,
                                                        "#9c179e"
                                                    ],
                                                    [
                                                        0.4444444444444444,
                                                        "#bd3786"
                                                    ],
                                                    [
                                                        0.5555555555555556,
                                                        "#d8576b"
                                                    ],
                                                    [
                                                        0.6666666666666666,
                                                        "#ed7953"
                                                    ],
                                                    [
                                                        0.7777777777777778,
                                                        "#fb9f3a"
                                                    ],
                                                    [
                                                        0.8888888888888888,
                                                        "#fdca26"
                                                    ],
                                                    [
                                                        1,
                                                        "#f0f921"
                                                    ]
                                                ],
                                                "type": "contour"
                                            }
                                        ],
                                        "contourcarpet": [
                                            {
                                                "colorbar": {
                                                    "outlinewidth": 0,
                                                    "ticks": ""
                                                },
                                                "type": "contourcarpet"
                                            }
                                        ],
                                        "heatmap": [
                                            {
                                                "colorbar": {
                                                    "outlinewidth": 0,
                                                    "ticks": ""
                                                },
                                                "colorscale": [
                                                    [
                                                        0,
                                                        "#0d0887"
                                                    ],
                                                    [
                                                        0.1111111111111111,
                                                        "#46039f"
                                                    ],
                                                    [
                                                        0.2222222222222222,
                                                        "#7201a8"
                                                    ],
                                                    [
                                                        0.3333333333333333,
                                                        "#9c179e"
                                                    ],
                                                    [
                                                        0.4444444444444444,
                                                        "#bd3786"
                                                    ],
                                                    [
                                                        0.5555555555555556,
                                                        "#d8576b"
                                                    ],
                                                    [
                                                        0.6666666666666666,
                                                        "#ed7953"
                                                    ],
                                                    [
                                                        0.7777777777777778,
                                                        "#fb9f3a"
                                                    ],
                                                    [
                                                        0.8888888888888888,
                                                        "#fdca26"
                                                    ],
                                                    [
                                                        1,
                                                        "#f0f921"
                                                    ]
                                                ],
                                                "type": "heatmap"
                                            }
                                        ],
                                        "histogram": [
                                            {
                                                "marker": {
                                                    "pattern": {
                                                        "fillmode": "overlay",
                                                        "size": 10,
                                                        "solidity": 0.2
                                                    }
                                                },
                                                "type": "histogram"
                                            }
                                        ],
                                        "histogram2d": [
                                            {
                                                "colorbar": {
                                                    "outlinewidth": 0,
                                                    "ticks": ""
                                                },
                                                "colorscale": [
                                                    [
                                                        0,
                                                        "#0d0887"
                                                    ],
                                                    [
                                                        0.1111111111111111,
                                                        "#46039f"
                                                    ],
                                                    [
                                                        0.2222222222222222,
                                                        "#7201a8"
                                                    ],
                                                    [
                                                        0.3333333333333333,
                                                        "#9c179e"
                                                    ],
                                                    [
                                                        0.4444444444444444,
                                                        "#bd3786"
                                                    ],
                                                    [
                                                        0.5555555555555556,
                                                        "#d8576b"
                                                    ],
                                                    [
                                                        0.6666666666666666,
                                                        "#ed7953"
                                                    ],
                                                    [
                                                        0.7777777777777778,
                                                        "#fb9f3a"
                                                    ],
                                                    [
                                                        0.8888888888888888,
                                                        "#fdca26"
                                                    ],
                                                    [
                                                        1,
                                                        "#f0f921"
                                                    ]
                                                ],
                                                "type": "histogram2d"
                                            }
                                        ],
                                        "histogram2dcontour": [
                                            {
                                                "colorbar": {
                                                    "outlinewidth": 0,
                                                    "ticks": ""
                                                },
                                                "colorscale": [
                                                    [
                                                        0,
                                                        "#0d0887"
                                                    ],
                                                    [
                                                        0.1111111111111111,
                                                        "#46039f"
                                                    ],
                                                    [
                                                        0.2222222222222222,
                                                        "#7201a8"
                                                    ],
                                                    [
                                                        0.3333333333333333,
                                                        "#9c179e"
                                                    ],
                                                    [
                                                        0.4444444444444444,
                                                        "#bd3786"
                                                    ],
                                                    [
                                                        0.5555555555555556,
                                                        "#d8576b"
                                                    ],
                                                    [
                                                        0.6666666666666666,
                                                        "#ed7953"
                                                    ],
                                                    [
                                                        0.7777777777777778,
                                                        "#fb9f3a"
                                                    ],
                                                    [
                                                        0.8888888888888888,
                                                        "#fdca26"
                                                    ],
                                                    [
                                                        1,
                                                        "#f0f921"
                                                    ]
                                                ],
                                                "type": "histogram2dcontour"
                                            }
                                        ],
                                        "mesh3d": [
                                            {
                                                "colorbar": {
                                                    "outlinewidth": 0,
                                                    "ticks": ""
                                                },
                                                "type": "mesh3d"
                                            }
                                        ],
                                        "parcoords": [
                                            {
                                                "line": {
                                                    "colorbar": {
                                                        "outlinewidth": 0,
                                                        "ticks": ""
                                                    }
                                                },
                                                "type": "parcoords"
                                            }
                                        ],
                                        "pie": [
                                            {
                                                "automargin": true,
                                                "type": "pie"
                                            }
                                        ],
                                        "scatter": [
                                            {
                                                "fillpattern": {
                                                    "fillmode": "overlay",
                                                    "size": 10,
                                                    "solidity": 0.2
                                                },
                                                "type": "scatter"
                                            }
                                        ],
                                        "scatter3d": [
                                            {
                                                "line": {
                                                    "colorbar": {
                                                        "outlinewidth": 0,
                                                        "ticks": ""
                                                    }
                                                },
                                                "marker": {
                                                    "colorbar": {
                                                        "outlinewidth": 0,
                                                        "ticks": ""
                                                    }
                                                },
                                                "type": "scatter3d"
                                            }
                                        ],
                                        "scattercarpet": [
                                            {
                                                "marker": {
                                                    "colorbar": {
                                                        "outlinewidth": 0,
                                                        "ticks": ""
                                                    }
                                                },
                                                "type": "scattercarpet"
                                            }
                                        ],
                                        "scattergeo": [
                                            {
                                                "marker": {
                                                    "colorbar": {
                                                        "outlinewidth": 0,
                                                        "ticks": ""
                                                    }
                                                },
                                                "type": "scattergeo"
                                            }
                                        ],
                                        "scattergl": [
                                            {
                                                "marker": {
                                                    "colorbar": {
                                                        "outlinewidth": 0,
                                                        "ticks": ""
                                                    }
                                                },
                                                "type": "scattergl"
                                            }
                                        ],
                                        "scattermap": [
                                            {
                                                "marker": {
                                                    "colorbar": {
                                                        "outlinewidth": 0,
                                                        "ticks": ""
                                                    }
                                                },
                                                "type": "scattermap"
                                            }
                                        ],
                                        "scattermapbox": [
                                            {
                                                "marker": {
                                                    "colorbar": {
                                                        "outlinewidth": 0,
                                                        "ticks": ""
                                                    }
                                                },
                                                "type": "scattermapbox"
                                            }
                                        ],
                                        "scatterpolar": [
                                            {
                                                "marker": {
                                                    "colorbar": {
                                                        "outlinewidth": 0,
                                                        "ticks": ""
                                                    }
                                                },
                                                "type": "scatterpolar"
                                            }
                                        ],
                                        "scatterpolargl": [
                                            {
                                                "marker": {
                                                    "colorbar": {
                                                        "outlinewidth": 0,
                                                        "ticks": ""
                                                    }
                                                },
                                                "type": "scatterpolargl"
                                            }
                                        ],
                                        "scatterternary": [
                                            {
                                                "marker": {
                                                    "colorbar": {
                                                        "outlinewidth": 0,
                                                        "ticks": ""
                                                    }
                                                },
                                                "type": "scatterternary"
                                            }
                                        ],
                                        "surface": [
                                            {
                                                "colorbar": {
                                                    "outlinewidth": 0,
                                                    "ticks": ""
                                                },
                                                "colorscale": [
                                                    [
                                                        0,
                                                        "#0d0887"
                                                    ],
                                                    [
                                                        0.1111111111111111,
                                                        "#46039f"
                                                    ],
                                                    [
                                                        0.2222222222222222,
                                                        "#7201a8"
                                                    ],
                                                    [
                                                        0.3333333333333333,
                                                        "#9c179e"
                                                    ],
                                                    [
                                                        0.4444444444444444,
                                                        "#bd3786"
                                                    ],
                                                    [
                                                        0.5555555555555556,
                                                        "#d8576b"
                                                    ],
                                                    [
                                                        0.6666666666666666,
                                                        "#ed7953"
                                                    ],
                                                    [
                                                        0.7777777777777778,
                                                        "#fb9f3a"
                                                    ],
                                                    [
                                                        0.8888888888888888,
                                                        "#fdca26"
                                                    ],
                                                    [
                                                        1,
                                                        "#f0f921"
                                                    ]
                                                ],
                                                "type": "surface"
                                            }
                                        ],
                                        "table": [
                                            {
                                                "cells": {
                                                    "fill": {
                                                        "color": "#EBF0F8"
                                                    },
                                                    "line": {
                                                        "color": "white"
                                                    }
                                                },
                                                "header": {
                                                    "fill": {
                                                        "color": "#C8D4E3"
                                                    },
                                                    "line": {
                                                        "color": "white"
                                                    }
                                                },
                                                "type": "table"
                                            }
                                        ]
                                    },
                                    "layout": {
                                        "annotationdefaults": {
                                            "arrowcolor": "#2a3f5f",
                                            "arrowhead": 0,
                                            "arrowwidth": 1
                                        },
                                        "autotypenumbers": "strict",
                                        "coloraxis": {
                                            "colorbar": {
                                                "outlinewidth": 0,
                                                "ticks": ""
                                            }
                                        },
                                        "colorscale": {
                                            "diverging": [
                                                [
                                                    0,
                                                    "#8e0152"
                                                ],
                                                [
                                                    0.1,
                                                    "#c51b7d"
                                                ],
                                                [
                                                    0.2,
                                                    "#de77ae"
                                                ],
                                                [
                                                    0.3,
                                                    "#f1b6da"
                                                ],
                                                [
                                                    0.4,
                                                    "#fde0ef"
                                                ],
                                                [
                                                    0.5,
                                                    "#f7f7f7"
                                                ],
                                                [
                                                    0.6,
                                                    "#e6f5d0"
                                                ],
                                                [
                                                    0.7,
                                                    "#b8e186"
                                                ],
                                                [
                                                    0.8,
                                                    "#7fbc41"
                                                ],
                                                [
                                                    0.9,
                                                    "#4d9221"
                                                ],
                                                [
                                                    1,
                                                    "#276419"
                                                ]
                                            ],
                                            "sequential": [
                                                [
                                                    0,
                                                    "#0d0887"
                                                ],
                                                [
                                                    0.1111111111111111,
                                                    "#46039f"
                                                ],
                                                [
                                                    0.2222222222222222,
                                                    "#7201a8"
                                                ],
                                                [
                                                    0.3333333333333333,
                                                    "#9c179e"
                                                ],
                                                [
                                                    0.4444444444444444,
                                                    "#bd3786"
                                                ],
                                                [
                                                    0.5555555555555556,
                                                    "#d8576b"
                                                ],
                                                [
                                                    0.6666666666666666,
                                                    "#ed7953"
                                                ],
                                                [
                                                    0.7777777777777778,
                                                    "#fb9f3a"
                                                ],
                                                [
                                                    0.8888888888888888,
                                                    "#fdca26"
                                                ],
                                                [
                                                    1,
                                                    "#f0f921"
                                                ]
                                            ],
                                            "sequentialminus": [
                                                [
                                                    0,
                                                    "#0d0887"
                                                ],
                                                [
                                                    0.1111111111111111,
                                                    "#46039f"
                                                ],
                                                [
                                                    0.2222222222222222,
                                                    "#7201a8"
                                                ],
                                                [
                                                    0.3333333333333333,
                                                    "#9c179e"
                                                ],
                                                [
                                                    0.4444444444444444,
                                                    "#bd3786"
                                                ],
                                                [
                                                    0.5555555555555556,
                                                    "#d8576b"
                                                ],
                                                [
                                                    0.6666666666666666,
                                                    "#ed7953"
                                                ],
                                                [
                                                    0.7777777777777778,
                                                    "#fb9f3a"
                                                ],
                                                [
                                                    0.8888888888888888,
                                                    "#fdca26"
                                                ],
                                                [
                                                    1,
                                                    "#f0f921"
                                                ]
                                            ]
                                        },
                                        "colorway": [
                                            "#636efa",
                                            "#EF553B",
                                            "#00cc96",
                                            "#ab63fa",
                                            "#FFA15A",
                                            "#19d3f3",
                                            "#FF6692",
                                            "#B6E880",
                                            "#FF97FF",
                                            "#FECB52"
                                        ],
                                        "font": {
                                            "color": "#2a3f5f"
                                        },
                                        "geo": {
                                            "bgcolor": "white",
                                            "lakecolor": "white",
                                            "landcolor": "#E5ECF6",
                                            "showlakes": true,
                                            "showland": true,
                                            "subunitcolor": "white"
                                        },
                                        "hoverlabel": {
                                            "align": "left"
                                        },
                                        "hovermode": "closest",
                                        "mapbox": {
                                            "style": "light"
                                        },
                                        "paper_bgcolor": "white",
                                        "plot_bgcolor": "#E5ECF6",
                                        "polar": {
                                            "angularaxis": {
                                                "gridcolor": "white",
                                                "linecolor": "white",
                                                "ticks": ""
                                            },
                                            "bgcolor": "#E5ECF6",
                                            "radialaxis": {
                                                "gridcolor": "white",
                                                "linecolor": "white",
                                                "ticks": ""
                                            }
                                        },
                                        "scene": {
                                            "xaxis": {
                                                "backgroundcolor": "#E5ECF6",
                                                "gridcolor": "white",
                                                "gridwidth": 2,
                                                "linecolor": "white",
                                                "showbackground": true,
                                                "ticks": "",
                                                "zerolinecolor": "white"
                                            },
                                            "yaxis": {
                                                "backgroundcolor": "#E5ECF6",
                                                "gridcolor": "white",
                                                "gridwidth": 2,
                                                "linecolor": "white",
                                                "showbackground": true,
                                                "ticks": "",
                                                "zerolinecolor": "white"
                                            },
                                            "zaxis": {
                                                "backgroundcolor": "#E5ECF6",
                                                "gridcolor": "white",
                                                "gridwidth": 2,
                                                "linecolor": "white",
                                                "showbackground": true,
                                                "ticks": "",
                                                "zerolinecolor": "white"
                                            }
                                        },
                                        "shapedefaults": {
                                            "line": {
                                                "color": "#2a3f5f"
                                            }
                                        },
                                        "ternary": {
                                            "aaxis": {
                                                "gridcolor": "white",
                                                "linecolor": "white",
                                                "ticks": ""
                                            },
                                            "baxis": {
                                                "gridcolor": "white",
                                                "linecolor": "white",
                                                "ticks": ""
                                            },
                                            "bgcolor": "#E5ECF6",
                                            "caxis": {
                                                "gridcolor": "white",
                                                "linecolor": "white",
                                                "ticks": ""
                                            }
                                        },
                                        "title": {
                                            "x": 0.05
                                        },
                                        "xaxis": {
                                            "automargin": true,
                                            "gridcolor": "white",
                                            "linecolor": "white",
                                            "ticks": "",
                                            "title": {
                                                "standoff": 15
                                            },
                                            "zerolinecolor": "white",
                                            "zerolinewidth": 2
                                        },
                                        "yaxis": {
                                            "automargin": true,
                                            "gridcolor": "white",
                                            "linecolor": "white",
                                            "ticks": "",
                                            "title": {
                                                "standoff": 15
                                            },
                                            "zerolinecolor": "white",
                                            "zerolinewidth": 2
                                        }
                                    }
                                },
                                "title": {
                                    "font": {
                                        "size": 18
                                    },
                                    "text": "Average Temperature per Country"
                                },
                                "xaxis": {
                                    "anchor": "y",
                                    "domain": [
                                        0,
                                        1
                                    ],
                                    "tickformat": ".1f",
                                    "title": {
                                        "text": "Average Temperature (°C)"
                                    }
                                },
                                "yaxis": {
                                    "anchor": "x",
                                    "domain": [
                                        0,
                                        1
                                    ],
                                    "title": {
                                        "text": "Country"
                                    }
                                }
                            }
                        }
                    },
                    "metadata": {},
                    "output_type": "display_data"
                }
            ],
            "source": [
                "#Select the best chart to show the Average temperature per country.\n",
                "avg_temp_by_country = data_imputed.groupby('country')['tavg'].mean().sort_values().reset_index()\n",
                "\n",
                "\n",
                "fig = px.bar(\n",
                "    avg_temp_by_country,\n",
                "    x='country',\n",
                "    y='tavg',\n",
                "    orientation='v',\n",
                "    title='Average Temperature per Country',\n",
                "    labels={'tavg': 'Avg Temperature (°C)', 'country': 'Country'},\n",
                "    color='tavg',\n",
                "    color_continuous_scale='YlOrRd'  # Optional: adds a heatmap feel\n",
                ")\n",
                "\n",
                "fig.update_layout(\n",
                "    xaxis_title='Average Temperature (°C)',\n",
                "    yaxis_title='Country',\n",
                "    title_font_size=18,\n",
                "    xaxis_tickformat='.1f',\n",
                "    margin=dict(l=100, r=40, t=60, b=40)\n",
                ")\n",
                "\n",
                "\n",
                "fig.show()\n",
                "\n"
            ]
        },
        {
            "cell_type": "code",
            "execution_count": null,
            "id": "72236018",
            "metadata": {},
            "outputs": [
                {
                    "data": {
                        "application/vnd.plotly.v1+json": {
                            "config": {
                                "plotlyServerURL": "https://plot.ly"
                            },
                            "data": [
                                {
                                    "hovertemplate": "country=Angola<br>Month=%{x}<br>Avg Temp (°C)=%{y}<extra></extra>",
                                    "legendgroup": "Angola",
                                    "line": {
                                        "color": "#636efa",
                                        "dash": "solid"
                                    },
                                    "marker": {
                                        "symbol": "circle"
                                    },
                                    "mode": "lines",
                                    "name": "Angola",
                                    "orientation": "v",
                                    "showlegend": true,
                                    "type": "scatter",
                                    "x": {
                                        "bdata": "AAAAAAAA8D8AAAAAAAAAQAAAAAAAAAhAAAAAAAAAEEAAAAAAAAAUQAAAAAAAABhAAAAAAAAAHEAAAAAAAAAgQAAAAAAAACJAAAAAAAAAJEAAAAAAAAAmQAAAAAAAAChA",
                                        "dtype": "f8"
                                    },
                                    "xaxis": "x",
                                    "y": {
                                        "bdata": "MpSOx853U0B41vN28c5TQH78+PHjx1NAAb9wa2+MU0AmJ/pYfiFTQGRuon1HyFFAvuVbvuVbUUA4H4PzMehRQNroWd5qhVJA5lLj5JtPU0DHnlxLwXBTQGIPIjnsIVNA",
                                        "dtype": "f8"
                                    },
                                    "yaxis": "y"
                                },
                                {
                                    "hovertemplate": "country=Cameroon<br>Month=%{x}<br>Avg Temp (°C)=%{y}<extra></extra>",
                                    "legendgroup": "Cameroon",
                                    "line": {
                                        "color": "#EF553B",
                                        "dash": "solid"
                                    },
                                    "marker": {
                                        "symbol": "circle"
                                    },
                                    "mode": "lines",
                                    "name": "Cameroon",
                                    "orientation": "v",
                                    "showlegend": true,
                                    "type": "scatter",
                                    "x": {
                                        "bdata": "AAAAAAAA8D8AAAAAAAAAQAAAAAAAAAhAAAAAAAAAEEAAAAAAAAAUQAAAAAAAABhAAAAAAAAAHEAAAAAAAAAgQAAAAAAAACJAAAAAAAAAJEAAAAAAAAAmQAAAAAAAAChA",
                                        "dtype": "f8"
                                    },
                                    "xaxis": "x",
                                    "y": {
                                        "bdata": "QezR6XaVU0D6U5JILGpUQLirb5L3S1VAQGXoL3dhVUASKw/O4MFUQPrWGAY3/VNAiOYv7TFvU0CW0bqAAzRTQGkKoBy4XlNAkWVaZwbTU0DJyMjIyPtTQArSTh18kVNA",
                                        "dtype": "f8"
                                    },
                                    "yaxis": "y"
                                },
                                {
                                    "hovertemplate": "country=Egypt<br>Month=%{x}<br>Avg Temp (°C)=%{y}<extra></extra>",
                                    "legendgroup": "Egypt",
                                    "line": {
                                        "color": "#00cc96",
                                        "dash": "solid"
                                    },
                                    "marker": {
                                        "symbol": "circle"
                                    },
                                    "mode": "lines",
                                    "name": "Egypt",
                                    "orientation": "v",
                                    "showlegend": true,
                                    "type": "scatter",
                                    "x": {
                                        "bdata": "AAAAAAAA8D8AAAAAAAAAQAAAAAAAAAhAAAAAAAAAEEAAAAAAAAAUQAAAAAAAABhAAAAAAAAAHEAAAAAAAAAgQAAAAAAAACJAAAAAAAAAJEAAAAAAAAAmQAAAAAAAAChA",
                                        "dtype": "f8"
                                    },
                                    "xaxis": "x",
                                    "y": {
                                        "bdata": "skY9RKPLTEDG9eUB/QlOQOfOE6qiaVBAIgTD9FM4UkAZTvUzdvJTQFRfWNZXLFVAXg2EQWa6VUD/2ncMUshVQKgCLs2u7lRA6SnE8+1NU0C9nZd4B/9QQIElehMcJ05A",
                                        "dtype": "f8"
                                    },
                                    "yaxis": "y"
                                },
                                {
                                    "hovertemplate": "country=Senegal<br>Month=%{x}<br>Avg Temp (°C)=%{y}<extra></extra>",
                                    "legendgroup": "Senegal",
                                    "line": {
                                        "color": "#ab63fa",
                                        "dash": "solid"
                                    },
                                    "marker": {
                                        "symbol": "circle"
                                    },
                                    "mode": "lines",
                                    "name": "Senegal",
                                    "orientation": "v",
                                    "showlegend": true,
                                    "type": "scatter",
                                    "x": {
                                        "bdata": "AAAAAAAA8D8AAAAAAAAAQAAAAAAAAAhAAAAAAAAAEEAAAAAAAAAUQAAAAAAAABhAAAAAAAAAHEAAAAAAAAAgQAAAAAAAACJAAAAAAAAAJEAAAAAAAAAmQAAAAAAAAChA",
                                        "dtype": "f8"
                                    },
                                    "xaxis": "x",
                                    "y": {
                                        "bdata": "CgxjDxE4U0BBqi9lcflTQABxNts3v1RAF9dB0YVFVUBSV8wTUpxVQGKS1xUBkFVAZAKomnAWVUCSBXkD2dhUQO+qiPeu6lRAUc/tkyNZVUD/5vmI0bNUQKuOCYnKilNA",
                                        "dtype": "f8"
                                    },
                                    "yaxis": "y"
                                },
                                {
                                    "hovertemplate": "country=Tunisia<br>Month=%{x}<br>Avg Temp (°C)=%{y}<extra></extra>",
                                    "legendgroup": "Tunisia",
                                    "line": {
                                        "color": "#FFA15A",
                                        "dash": "solid"
                                    },
                                    "marker": {
                                        "symbol": "circle"
                                    },
                                    "mode": "lines",
                                    "name": "Tunisia",
                                    "orientation": "v",
                                    "showlegend": true,
                                    "type": "scatter",
                                    "x": {
                                        "bdata": "AAAAAAAA8D8AAAAAAAAAQAAAAAAAAAhAAAAAAAAAEEAAAAAAAAAUQAAAAAAAABhAAAAAAAAAHEAAAAAAAAAgQAAAAAAAACJAAAAAAAAAJEAAAAAAAAAmQAAAAAAAAChA",
                                        "dtype": "f8"
                                    },
                                    "xaxis": "x",
                                    "y": {
                                        "bdata": "eSke0GgGSkDhZG68oulKQFP2P+2rG01AEmdpr+PDT0A9bdxskrpRQHy9NnYcwVNA5GSfxqIkVUBNY4t/lC1VQL9Ls+/SrFNAJfYRR2jAUUDoH/b8w55OQCSyAHlNCktA",
                                        "dtype": "f8"
                                    },
                                    "yaxis": "y"
                                }
                            ],
                            "layout": {
                                "legend": {
                                    "title": {
                                        "text": "country"
                                    },
                                    "tracegroupgap": 0
                                },
                                "template": {
                                    "data": {
                                        "bar": [
                                            {
                                                "error_x": {
                                                    "color": "#2a3f5f"
                                                },
                                                "error_y": {
                                                    "color": "#2a3f5f"
                                                },
                                                "marker": {
                                                    "line": {
                                                        "color": "#E5ECF6",
                                                        "width": 0.5
                                                    },
                                                    "pattern": {
                                                        "fillmode": "overlay",
                                                        "size": 10,
                                                        "solidity": 0.2
                                                    }
                                                },
                                                "type": "bar"
                                            }
                                        ],
                                        "barpolar": [
                                            {
                                                "marker": {
                                                    "line": {
                                                        "color": "#E5ECF6",
                                                        "width": 0.5
                                                    },
                                                    "pattern": {
                                                        "fillmode": "overlay",
                                                        "size": 10,
                                                        "solidity": 0.2
                                                    }
                                                },
                                                "type": "barpolar"
                                            }
                                        ],
                                        "carpet": [
                                            {
                                                "aaxis": {
                                                    "endlinecolor": "#2a3f5f",
                                                    "gridcolor": "white",
                                                    "linecolor": "white",
                                                    "minorgridcolor": "white",
                                                    "startlinecolor": "#2a3f5f"
                                                },
                                                "baxis": {
                                                    "endlinecolor": "#2a3f5f",
                                                    "gridcolor": "white",
                                                    "linecolor": "white",
                                                    "minorgridcolor": "white",
                                                    "startlinecolor": "#2a3f5f"
                                                },
                                                "type": "carpet"
                                            }
                                        ],
                                        "choropleth": [
                                            {
                                                "colorbar": {
                                                    "outlinewidth": 0,
                                                    "ticks": ""
                                                },
                                                "type": "choropleth"
                                            }
                                        ],
                                        "contour": [
                                            {
                                                "colorbar": {
                                                    "outlinewidth": 0,
                                                    "ticks": ""
                                                },
                                                "colorscale": [
                                                    [
                                                        0,
                                                        "#0d0887"
                                                    ],
                                                    [
                                                        0.1111111111111111,
                                                        "#46039f"
                                                    ],
                                                    [
                                                        0.2222222222222222,
                                                        "#7201a8"
                                                    ],
                                                    [
                                                        0.3333333333333333,
                                                        "#9c179e"
                                                    ],
                                                    [
                                                        0.4444444444444444,
                                                        "#bd3786"
                                                    ],
                                                    [
                                                        0.5555555555555556,
                                                        "#d8576b"
                                                    ],
                                                    [
                                                        0.6666666666666666,
                                                        "#ed7953"
                                                    ],
                                                    [
                                                        0.7777777777777778,
                                                        "#fb9f3a"
                                                    ],
                                                    [
                                                        0.8888888888888888,
                                                        "#fdca26"
                                                    ],
                                                    [
                                                        1,
                                                        "#f0f921"
                                                    ]
                                                ],
                                                "type": "contour"
                                            }
                                        ],
                                        "contourcarpet": [
                                            {
                                                "colorbar": {
                                                    "outlinewidth": 0,
                                                    "ticks": ""
                                                },
                                                "type": "contourcarpet"
                                            }
                                        ],
                                        "heatmap": [
                                            {
                                                "colorbar": {
                                                    "outlinewidth": 0,
                                                    "ticks": ""
                                                },
                                                "colorscale": [
                                                    [
                                                        0,
                                                        "#0d0887"
                                                    ],
                                                    [
                                                        0.1111111111111111,
                                                        "#46039f"
                                                    ],
                                                    [
                                                        0.2222222222222222,
                                                        "#7201a8"
                                                    ],
                                                    [
                                                        0.3333333333333333,
                                                        "#9c179e"
                                                    ],
                                                    [
                                                        0.4444444444444444,
                                                        "#bd3786"
                                                    ],
                                                    [
                                                        0.5555555555555556,
                                                        "#d8576b"
                                                    ],
                                                    [
                                                        0.6666666666666666,
                                                        "#ed7953"
                                                    ],
                                                    [
                                                        0.7777777777777778,
                                                        "#fb9f3a"
                                                    ],
                                                    [
                                                        0.8888888888888888,
                                                        "#fdca26"
                                                    ],
                                                    [
                                                        1,
                                                        "#f0f921"
                                                    ]
                                                ],
                                                "type": "heatmap"
                                            }
                                        ],
                                        "histogram": [
                                            {
                                                "marker": {
                                                    "pattern": {
                                                        "fillmode": "overlay",
                                                        "size": 10,
                                                        "solidity": 0.2
                                                    }
                                                },
                                                "type": "histogram"
                                            }
                                        ],
                                        "histogram2d": [
                                            {
                                                "colorbar": {
                                                    "outlinewidth": 0,
                                                    "ticks": ""
                                                },
                                                "colorscale": [
                                                    [
                                                        0,
                                                        "#0d0887"
                                                    ],
                                                    [
                                                        0.1111111111111111,
                                                        "#46039f"
                                                    ],
                                                    [
                                                        0.2222222222222222,
                                                        "#7201a8"
                                                    ],
                                                    [
                                                        0.3333333333333333,
                                                        "#9c179e"
                                                    ],
                                                    [
                                                        0.4444444444444444,
                                                        "#bd3786"
                                                    ],
                                                    [
                                                        0.5555555555555556,
                                                        "#d8576b"
                                                    ],
                                                    [
                                                        0.6666666666666666,
                                                        "#ed7953"
                                                    ],
                                                    [
                                                        0.7777777777777778,
                                                        "#fb9f3a"
                                                    ],
                                                    [
                                                        0.8888888888888888,
                                                        "#fdca26"
                                                    ],
                                                    [
                                                        1,
                                                        "#f0f921"
                                                    ]
                                                ],
                                                "type": "histogram2d"
                                            }
                                        ],
                                        "histogram2dcontour": [
                                            {
                                                "colorbar": {
                                                    "outlinewidth": 0,
                                                    "ticks": ""
                                                },
                                                "colorscale": [
                                                    [
                                                        0,
                                                        "#0d0887"
                                                    ],
                                                    [
                                                        0.1111111111111111,
                                                        "#46039f"
                                                    ],
                                                    [
                                                        0.2222222222222222,
                                                        "#7201a8"
                                                    ],
                                                    [
                                                        0.3333333333333333,
                                                        "#9c179e"
                                                    ],
                                                    [
                                                        0.4444444444444444,
                                                        "#bd3786"
                                                    ],
                                                    [
                                                        0.5555555555555556,
                                                        "#d8576b"
                                                    ],
                                                    [
                                                        0.6666666666666666,
                                                        "#ed7953"
                                                    ],
                                                    [
                                                        0.7777777777777778,
                                                        "#fb9f3a"
                                                    ],
                                                    [
                                                        0.8888888888888888,
                                                        "#fdca26"
                                                    ],
                                                    [
                                                        1,
                                                        "#f0f921"
                                                    ]
                                                ],
                                                "type": "histogram2dcontour"
                                            }
                                        ],
                                        "mesh3d": [
                                            {
                                                "colorbar": {
                                                    "outlinewidth": 0,
                                                    "ticks": ""
                                                },
                                                "type": "mesh3d"
                                            }
                                        ],
                                        "parcoords": [
                                            {
                                                "line": {
                                                    "colorbar": {
                                                        "outlinewidth": 0,
                                                        "ticks": ""
                                                    }
                                                },
                                                "type": "parcoords"
                                            }
                                        ],
                                        "pie": [
                                            {
                                                "automargin": true,
                                                "type": "pie"
                                            }
                                        ],
                                        "scatter": [
                                            {
                                                "fillpattern": {
                                                    "fillmode": "overlay",
                                                    "size": 10,
                                                    "solidity": 0.2
                                                },
                                                "type": "scatter"
                                            }
                                        ],
                                        "scatter3d": [
                                            {
                                                "line": {
                                                    "colorbar": {
                                                        "outlinewidth": 0,
                                                        "ticks": ""
                                                    }
                                                },
                                                "marker": {
                                                    "colorbar": {
                                                        "outlinewidth": 0,
                                                        "ticks": ""
                                                    }
                                                },
                                                "type": "scatter3d"
                                            }
                                        ],
                                        "scattercarpet": [
                                            {
                                                "marker": {
                                                    "colorbar": {
                                                        "outlinewidth": 0,
                                                        "ticks": ""
                                                    }
                                                },
                                                "type": "scattercarpet"
                                            }
                                        ],
                                        "scattergeo": [
                                            {
                                                "marker": {
                                                    "colorbar": {
                                                        "outlinewidth": 0,
                                                        "ticks": ""
                                                    }
                                                },
                                                "type": "scattergeo"
                                            }
                                        ],
                                        "scattergl": [
                                            {
                                                "marker": {
                                                    "colorbar": {
                                                        "outlinewidth": 0,
                                                        "ticks": ""
                                                    }
                                                },
                                                "type": "scattergl"
                                            }
                                        ],
                                        "scattermap": [
                                            {
                                                "marker": {
                                                    "colorbar": {
                                                        "outlinewidth": 0,
                                                        "ticks": ""
                                                    }
                                                },
                                                "type": "scattermap"
                                            }
                                        ],
                                        "scattermapbox": [
                                            {
                                                "marker": {
                                                    "colorbar": {
                                                        "outlinewidth": 0,
                                                        "ticks": ""
                                                    }
                                                },
                                                "type": "scattermapbox"
                                            }
                                        ],
                                        "scatterpolar": [
                                            {
                                                "marker": {
                                                    "colorbar": {
                                                        "outlinewidth": 0,
                                                        "ticks": ""
                                                    }
                                                },
                                                "type": "scatterpolar"
                                            }
                                        ],
                                        "scatterpolargl": [
                                            {
                                                "marker": {
                                                    "colorbar": {
                                                        "outlinewidth": 0,
                                                        "ticks": ""
                                                    }
                                                },
                                                "type": "scatterpolargl"
                                            }
                                        ],
                                        "scatterternary": [
                                            {
                                                "marker": {
                                                    "colorbar": {
                                                        "outlinewidth": 0,
                                                        "ticks": ""
                                                    }
                                                },
                                                "type": "scatterternary"
                                            }
                                        ],
                                        "surface": [
                                            {
                                                "colorbar": {
                                                    "outlinewidth": 0,
                                                    "ticks": ""
                                                },
                                                "colorscale": [
                                                    [
                                                        0,
                                                        "#0d0887"
                                                    ],
                                                    [
                                                        0.1111111111111111,
                                                        "#46039f"
                                                    ],
                                                    [
                                                        0.2222222222222222,
                                                        "#7201a8"
                                                    ],
                                                    [
                                                        0.3333333333333333,
                                                        "#9c179e"
                                                    ],
                                                    [
                                                        0.4444444444444444,
                                                        "#bd3786"
                                                    ],
                                                    [
                                                        0.5555555555555556,
                                                        "#d8576b"
                                                    ],
                                                    [
                                                        0.6666666666666666,
                                                        "#ed7953"
                                                    ],
                                                    [
                                                        0.7777777777777778,
                                                        "#fb9f3a"
                                                    ],
                                                    [
                                                        0.8888888888888888,
                                                        "#fdca26"
                                                    ],
                                                    [
                                                        1,
                                                        "#f0f921"
                                                    ]
                                                ],
                                                "type": "surface"
                                            }
                                        ],
                                        "table": [
                                            {
                                                "cells": {
                                                    "fill": {
                                                        "color": "#EBF0F8"
                                                    },
                                                    "line": {
                                                        "color": "white"
                                                    }
                                                },
                                                "header": {
                                                    "fill": {
                                                        "color": "#C8D4E3"
                                                    },
                                                    "line": {
                                                        "color": "white"
                                                    }
                                                },
                                                "type": "table"
                                            }
                                        ]
                                    },
                                    "layout": {
                                        "annotationdefaults": {
                                            "arrowcolor": "#2a3f5f",
                                            "arrowhead": 0,
                                            "arrowwidth": 1
                                        },
                                        "autotypenumbers": "strict",
                                        "coloraxis": {
                                            "colorbar": {
                                                "outlinewidth": 0,
                                                "ticks": ""
                                            }
                                        },
                                        "colorscale": {
                                            "diverging": [
                                                [
                                                    0,
                                                    "#8e0152"
                                                ],
                                                [
                                                    0.1,
                                                    "#c51b7d"
                                                ],
                                                [
                                                    0.2,
                                                    "#de77ae"
                                                ],
                                                [
                                                    0.3,
                                                    "#f1b6da"
                                                ],
                                                [
                                                    0.4,
                                                    "#fde0ef"
                                                ],
                                                [
                                                    0.5,
                                                    "#f7f7f7"
                                                ],
                                                [
                                                    0.6,
                                                    "#e6f5d0"
                                                ],
                                                [
                                                    0.7,
                                                    "#b8e186"
                                                ],
                                                [
                                                    0.8,
                                                    "#7fbc41"
                                                ],
                                                [
                                                    0.9,
                                                    "#4d9221"
                                                ],
                                                [
                                                    1,
                                                    "#276419"
                                                ]
                                            ],
                                            "sequential": [
                                                [
                                                    0,
                                                    "#0d0887"
                                                ],
                                                [
                                                    0.1111111111111111,
                                                    "#46039f"
                                                ],
                                                [
                                                    0.2222222222222222,
                                                    "#7201a8"
                                                ],
                                                [
                                                    0.3333333333333333,
                                                    "#9c179e"
                                                ],
                                                [
                                                    0.4444444444444444,
                                                    "#bd3786"
                                                ],
                                                [
                                                    0.5555555555555556,
                                                    "#d8576b"
                                                ],
                                                [
                                                    0.6666666666666666,
                                                    "#ed7953"
                                                ],
                                                [
                                                    0.7777777777777778,
                                                    "#fb9f3a"
                                                ],
                                                [
                                                    0.8888888888888888,
                                                    "#fdca26"
                                                ],
                                                [
                                                    1,
                                                    "#f0f921"
                                                ]
                                            ],
                                            "sequentialminus": [
                                                [
                                                    0,
                                                    "#0d0887"
                                                ],
                                                [
                                                    0.1111111111111111,
                                                    "#46039f"
                                                ],
                                                [
                                                    0.2222222222222222,
                                                    "#7201a8"
                                                ],
                                                [
                                                    0.3333333333333333,
                                                    "#9c179e"
                                                ],
                                                [
                                                    0.4444444444444444,
                                                    "#bd3786"
                                                ],
                                                [
                                                    0.5555555555555556,
                                                    "#d8576b"
                                                ],
                                                [
                                                    0.6666666666666666,
                                                    "#ed7953"
                                                ],
                                                [
                                                    0.7777777777777778,
                                                    "#fb9f3a"
                                                ],
                                                [
                                                    0.8888888888888888,
                                                    "#fdca26"
                                                ],
                                                [
                                                    1,
                                                    "#f0f921"
                                                ]
                                            ]
                                        },
                                        "colorway": [
                                            "#636efa",
                                            "#EF553B",
                                            "#00cc96",
                                            "#ab63fa",
                                            "#FFA15A",
                                            "#19d3f3",
                                            "#FF6692",
                                            "#B6E880",
                                            "#FF97FF",
                                            "#FECB52"
                                        ],
                                        "font": {
                                            "color": "#2a3f5f"
                                        },
                                        "geo": {
                                            "bgcolor": "white",
                                            "lakecolor": "white",
                                            "landcolor": "#E5ECF6",
                                            "showlakes": true,
                                            "showland": true,
                                            "subunitcolor": "white"
                                        },
                                        "hoverlabel": {
                                            "align": "left"
                                        },
                                        "hovermode": "closest",
                                        "mapbox": {
                                            "style": "light"
                                        },
                                        "paper_bgcolor": "white",
                                        "plot_bgcolor": "#E5ECF6",
                                        "polar": {
                                            "angularaxis": {
                                                "gridcolor": "white",
                                                "linecolor": "white",
                                                "ticks": ""
                                            },
                                            "bgcolor": "#E5ECF6",
                                            "radialaxis": {
                                                "gridcolor": "white",
                                                "linecolor": "white",
                                                "ticks": ""
                                            }
                                        },
                                        "scene": {
                                            "xaxis": {
                                                "backgroundcolor": "#E5ECF6",
                                                "gridcolor": "white",
                                                "gridwidth": 2,
                                                "linecolor": "white",
                                                "showbackground": true,
                                                "ticks": "",
                                                "zerolinecolor": "white"
                                            },
                                            "yaxis": {
                                                "backgroundcolor": "#E5ECF6",
                                                "gridcolor": "white",
                                                "gridwidth": 2,
                                                "linecolor": "white",
                                                "showbackground": true,
                                                "ticks": "",
                                                "zerolinecolor": "white"
                                            },
                                            "zaxis": {
                                                "backgroundcolor": "#E5ECF6",
                                                "gridcolor": "white",
                                                "gridwidth": 2,
                                                "linecolor": "white",
                                                "showbackground": true,
                                                "ticks": "",
                                                "zerolinecolor": "white"
                                            }
                                        },
                                        "shapedefaults": {
                                            "line": {
                                                "color": "#2a3f5f"
                                            }
                                        },
                                        "ternary": {
                                            "aaxis": {
                                                "gridcolor": "white",
                                                "linecolor": "white",
                                                "ticks": ""
                                            },
                                            "baxis": {
                                                "gridcolor": "white",
                                                "linecolor": "white",
                                                "ticks": ""
                                            },
                                            "bgcolor": "#E5ECF6",
                                            "caxis": {
                                                "gridcolor": "white",
                                                "linecolor": "white",
                                                "ticks": ""
                                            }
                                        },
                                        "title": {
                                            "x": 0.05
                                        },
                                        "xaxis": {
                                            "automargin": true,
                                            "gridcolor": "white",
                                            "linecolor": "white",
                                            "ticks": "",
                                            "title": {
                                                "standoff": 15
                                            },
                                            "zerolinecolor": "white",
                                            "zerolinewidth": 2
                                        },
                                        "yaxis": {
                                            "automargin": true,
                                            "gridcolor": "white",
                                            "linecolor": "white",
                                            "ticks": "",
                                            "title": {
                                                "standoff": 15
                                            },
                                            "zerolinecolor": "white",
                                            "zerolinewidth": 2
                                        }
                                    }
                                },
                                "title": {
                                    "text": "Monthly Temperature Patterns by Country"
                                },
                                "xaxis": {
                                    "anchor": "y",
                                    "domain": [
                                        0,
                                        1
                                    ],
                                    "title": {
                                        "text": "Month"
                                    }
                                },
                                "yaxis": {
                                    "anchor": "x",
                                    "domain": [
                                        0,
                                        1
                                    ],
                                    "title": {
                                        "text": "Avg Temp (°C)"
                                    }
                                }
                            }
                        }
                    },
                    "metadata": {},
                    "output_type": "display_data"
                }
            ],
            "source": [
                "#  How does average temperature vary by month across countries?\n",
                "monthly_avg = data_imputed.groupby(['country', 'month'])['tavg'].mean().reset_index()\n",
                "\n",
                "fig = px.line(monthly_avg, x='month', y='tavg', color='country',\n",
                "              title='Monthly Temperature Patterns by Country',\n",
                "              labels={'month': 'Month', 'tavg': 'Avg Temp (°C)'})\n",
                "fig.show()\n",
                "\n"
            ]
        }
    ],
    "metadata": {
        "kernelspec": {
            "display_name": "Python 3",
            "language": "python",
            "name": "python3"
        },
        "language_info": {
            "codemirror_mode": {
                "name": "ipython",
                "version": 3
            },
            "file_extension": ".py",
            "mimetype": "text/x-python",
            "name": "python",
            "nbconvert_exporter": "python",
            "pygments_lexer": "ipython3",
            "version": "3.11.9"
        }
    },
    "nbformat": 4,
    "nbformat_minor": 5
}